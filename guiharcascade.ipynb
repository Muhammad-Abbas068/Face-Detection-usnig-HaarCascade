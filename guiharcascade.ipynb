{
 "cells": [
  {
   "cell_type": "code",
   "execution_count": 2,
   "id": "f58fb46b",
   "metadata": {},
   "outputs": [
    {
     "name": "stderr",
     "output_type": "stream",
     "text": [
      "Exception in Tkinter callback\n",
      "Traceback (most recent call last):\n",
      "  File \"C:\\Program Files\\WindowsApps\\PythonSoftwareFoundation.Python.3.11_3.11.2544.0_x64__qbz5n2kfra8p0\\Lib\\tkinter\\__init__.py\", line 1967, in __call__\n",
      "    return self.func(*args)\n",
      "           ^^^^^^^^^^^^^^^^\n",
      "  File \"C:\\Users\\arshad\\AppData\\Local\\Temp\\ipykernel_11232\\4038184180.py\", line 62, in <lambda>\n",
      "    btn_face = Button(window, text=\"Detect Face\", command=lambda: detect_features(1, canvas))\n",
      "                                                                  ^^^^^^^^^^^^^^^^^^^^^^^^^^\n",
      "  File \"C:\\Users\\arshad\\AppData\\Local\\Temp\\ipykernel_11232\\4038184180.py\", line 27, in detect_features\n",
      "    features = face_cascade.detectMultiScale(gray_img, scaleFactor=1.3, minNeighbors=5)\n",
      "               ^^^^^^^^^^^^^^^^^^^^^^^^^^^^^^^^^^^^^^^^^^^^^^^^^^^^^^^^^^^^^^^^^^^^^^^^\n",
      "cv2.error: OpenCV(4.8.1) D:\\a\\opencv-python\\opencv-python\\opencv\\modules\\objdetect\\src\\cascadedetect.cpp:1689: error: (-215:Assertion failed) !empty() in function 'cv::CascadeClassifier::detectMultiScale'\n",
      "\n"
     ]
    }
   ],
   "source": [
    "import cv2\n",
    "from tkinter import *\n",
    "from tkinter import filedialog\n",
    "from PIL import Image, ImageTk\n",
    "\n",
    "# Global variable to store the image path\n",
    "global_image_path = None\n",
    "\n",
    "def detect_features(feature_choice, canvas):\n",
    "    global global_image_path\n",
    "\n",
    "    if not global_image_path:\n",
    "        print(\"No image selected!\")\n",
    "        return\n",
    "\n",
    "    # Load cascades\n",
    "    face_cascade = cv2.CascadeClassifier('face.xml')\n",
    "    mouth_cascade = cv2.CascadeClassifier('mouth.xml')\n",
    "    eyes_cascade=cv2.CascadeClassifier('eyes.xml')\n",
    "    nose_cascade=cv2.CascadeClassifier('nose.xml')\n",
    "    # Read and process image\n",
    "    img = cv2.imread(global_image_path)\n",
    "    gray_img = cv2.cvtColor(img, cv2.COLOR_BGR2GRAY)\n",
    "\n",
    "    # Detect features based on user choice\n",
    "    if feature_choice == 1:  # Face\n",
    "        features = face_cascade.detectMultiScale(gray_img, scaleFactor=1.3, minNeighbors=5)\n",
    "    elif feature_choice == 2:  # Mouth\n",
    "        features = mouth_cascade.detectMultiScale(gray_img, scaleFactor=1.3, minNeighbors=10)\n",
    "    elif feature_choice == 3:  # Eyes\n",
    "        features = eyes_cascade.detectMultiScale(gray_img, scaleFactor=1.3, minNeighbors=5)\n",
    "    elif feature_choice == 4:  # Nose\n",
    "        features = nose_cascade.detectMultiScale(gray_img, scaleFactor=1.3, minNeighbors=5)\n",
    "    else:\n",
    "        return\n",
    "\n",
    "    # Draw rectangles around detected features\n",
    "    for (x, y, w, h) in features:\n",
    "        cv2.rectangle(img, (x, y), (x+w, y+h), (255, 0, 0), 2)\n",
    "\n",
    "    # Convert image for Tkinter\n",
    "    img = Image.fromarray(cv2.cvtColor(img, cv2.COLOR_BGR2RGB))\n",
    "    imgTk = ImageTk.PhotoImage(image=img)\n",
    "\n",
    "    # Update canvas\n",
    "    canvas.image = imgTk\n",
    "    canvas.create_image(0, 0, anchor=NW, image=imgTk)\n",
    "    canvas.config(scrollregion=canvas.bbox(ALL))\n",
    "\n",
    "def select_image(canvas):\n",
    "    global global_image_path\n",
    "    global_image_path = filedialog.askopenfilename()\n",
    "\n",
    "def main():\n",
    "    window = Tk()\n",
    "    window.title(\"Feature Detection GUI\")\n",
    "\n",
    "    canvas = Canvas(window, width=600, height=400)\n",
    "    canvas.grid(row=0, column=0, columnspan=5)\n",
    "\n",
    "    # Buttons for feature selection\n",
    "    btn_face = Button(window, text=\"Detect Face\", command=lambda: detect_features(1, canvas))\n",
    "    btn_face.grid(row=1, column=0)\n",
    "\n",
    "    btn_mouth = Button(window, text=\"Detect Mouth\", command=lambda: detect_features(2, canvas))\n",
    "    btn_mouth.grid(row=1, column=1)\n",
    "\n",
    "    btn_eyes = Button(window, text=\"Detect Eyes\", command=lambda: detect_features(3, canvas))\n",
    "    btn_eyes.grid(row=1, column=2)    \n",
    "    \n",
    "    btn_nose = Button(window, text=\"Detect Nose\", command=lambda: detect_features(4, canvas))\n",
    "    btn_nose.grid(row=1, column=3)\n",
    "\n",
    "    # Button for selecting image\n",
    "    btn_select = Button(window, text=\"Select Image\", command=lambda: select_image(canvas))\n",
    "    btn_select.grid(row=3, column=1, columnspan=2)\n",
    "\n",
    "    window.mainloop()\n",
    "\n",
    "if __name__ == \"__main__\":\n",
    "    main()\n"
   ]
  },
  {
   "cell_type": "code",
   "execution_count": null,
   "id": "a431a7b2",
   "metadata": {},
   "outputs": [],
   "source": []
  },
  {
   "cell_type": "code",
   "execution_count": null,
   "id": "d3657ca3",
   "metadata": {},
   "outputs": [],
   "source": []
  },
  {
   "cell_type": "code",
   "execution_count": null,
   "id": "80456733",
   "metadata": {},
   "outputs": [],
   "source": []
  },
  {
   "cell_type": "code",
   "execution_count": null,
   "id": "a9e24374",
   "metadata": {},
   "outputs": [],
   "source": []
  },
  {
   "cell_type": "code",
   "execution_count": null,
   "id": "eedabdf5",
   "metadata": {},
   "outputs": [],
   "source": [
    "\n"
   ]
  }
 ],
 "metadata": {
  "kernelspec": {
   "display_name": "Python 3",
   "language": "python",
   "name": "python3"
  },
  "language_info": {
   "codemirror_mode": {
    "name": "ipython",
    "version": 3
   },
   "file_extension": ".py",
   "mimetype": "text/x-python",
   "name": "python",
   "nbconvert_exporter": "python",
   "pygments_lexer": "ipython3",
   "version": "3.11.9"
  }
 },
 "nbformat": 4,
 "nbformat_minor": 5
}
